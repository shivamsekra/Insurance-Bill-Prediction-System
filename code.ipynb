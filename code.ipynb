{
 "cells": [
  {
   "cell_type": "code",
   "execution_count": 1,
   "metadata": {},
   "outputs": [],
   "source": [
    "import pandas as pd\n",
    "import numpy as np\n",
    "import matplotlib.pyplot as plt\n",
    "from sklearn.model_selection import train_test_split\n",
    "from sklearn.ensemble import RandomForestRegressor\n",
    "from sklearn.metrics import accuracy_score\n",
    "from sklearn.metrics import mean_squared_error\n",
    "from sklearn.model_selection import GridSearchCV"
   ]
  },
  {
   "cell_type": "code",
   "execution_count": 3,
   "metadata": {},
   "outputs": [],
   "source": [
    "df=pd.read_csv('datasets_13720_18513_insurance.csv')"
   ]
  },
  {
   "cell_type": "code",
   "execution_count": 4,
   "metadata": {},
   "outputs": [
    {
     "data": {
      "text/html": [
       "<div>\n",
       "<style scoped>\n",
       "    .dataframe tbody tr th:only-of-type {\n",
       "        vertical-align: middle;\n",
       "    }\n",
       "\n",
       "    .dataframe tbody tr th {\n",
       "        vertical-align: top;\n",
       "    }\n",
       "\n",
       "    .dataframe thead th {\n",
       "        text-align: right;\n",
       "    }\n",
       "</style>\n",
       "<table border=\"1\" class=\"dataframe\">\n",
       "  <thead>\n",
       "    <tr style=\"text-align: right;\">\n",
       "      <th></th>\n",
       "      <th>age</th>\n",
       "      <th>sex</th>\n",
       "      <th>bmi</th>\n",
       "      <th>children</th>\n",
       "      <th>smoker</th>\n",
       "      <th>region</th>\n",
       "      <th>charges</th>\n",
       "    </tr>\n",
       "  </thead>\n",
       "  <tbody>\n",
       "    <tr>\n",
       "      <th>0</th>\n",
       "      <td>19</td>\n",
       "      <td>female</td>\n",
       "      <td>27.900</td>\n",
       "      <td>0</td>\n",
       "      <td>yes</td>\n",
       "      <td>southwest</td>\n",
       "      <td>16884.92400</td>\n",
       "    </tr>\n",
       "    <tr>\n",
       "      <th>1</th>\n",
       "      <td>18</td>\n",
       "      <td>male</td>\n",
       "      <td>33.770</td>\n",
       "      <td>1</td>\n",
       "      <td>no</td>\n",
       "      <td>southeast</td>\n",
       "      <td>1725.55230</td>\n",
       "    </tr>\n",
       "    <tr>\n",
       "      <th>2</th>\n",
       "      <td>28</td>\n",
       "      <td>male</td>\n",
       "      <td>33.000</td>\n",
       "      <td>3</td>\n",
       "      <td>no</td>\n",
       "      <td>southeast</td>\n",
       "      <td>4449.46200</td>\n",
       "    </tr>\n",
       "    <tr>\n",
       "      <th>3</th>\n",
       "      <td>33</td>\n",
       "      <td>male</td>\n",
       "      <td>22.705</td>\n",
       "      <td>0</td>\n",
       "      <td>no</td>\n",
       "      <td>northwest</td>\n",
       "      <td>21984.47061</td>\n",
       "    </tr>\n",
       "    <tr>\n",
       "      <th>4</th>\n",
       "      <td>32</td>\n",
       "      <td>male</td>\n",
       "      <td>28.880</td>\n",
       "      <td>0</td>\n",
       "      <td>no</td>\n",
       "      <td>northwest</td>\n",
       "      <td>3866.85520</td>\n",
       "    </tr>\n",
       "  </tbody>\n",
       "</table>\n",
       "</div>"
      ],
      "text/plain": [
       "   age     sex     bmi  children smoker     region      charges\n",
       "0   19  female  27.900         0    yes  southwest  16884.92400\n",
       "1   18    male  33.770         1     no  southeast   1725.55230\n",
       "2   28    male  33.000         3     no  southeast   4449.46200\n",
       "3   33    male  22.705         0     no  northwest  21984.47061\n",
       "4   32    male  28.880         0     no  northwest   3866.85520"
      ]
     },
     "execution_count": 4,
     "metadata": {},
     "output_type": "execute_result"
    }
   ],
   "source": [
    "df.head()"
   ]
  },
  {
   "cell_type": "code",
   "execution_count": 9,
   "metadata": {},
   "outputs": [
    {
     "data": {
      "text/plain": [
       "age         0\n",
       "sex         0\n",
       "bmi         0\n",
       "children    0\n",
       "smoker      0\n",
       "region      0\n",
       "charges     0\n",
       "dtype: int64"
      ]
     },
     "execution_count": 9,
     "metadata": {},
     "output_type": "execute_result"
    }
   ],
   "source": [
    "## Checking if null values present\n",
    "df.isnull().sum()"
   ]
  },
  {
   "cell_type": "code",
   "execution_count": 11,
   "metadata": {},
   "outputs": [
    {
     "data": {
      "text/html": [
       "\n",
       "        <iframe\n",
       "            width=\"100%\"\n",
       "            height=\"475\"\n",
       "            src=\"http://shivam-sekra:40000/dtale/iframe/1\"\n",
       "            frameborder=\"0\"\n",
       "            allowfullscreen\n",
       "        ></iframe>\n",
       "        "
      ],
      "text/plain": [
       "<IPython.lib.display.IFrame at 0x171659763c8>"
      ]
     },
     "metadata": {},
     "output_type": "display_data"
    },
    {
     "data": {
      "text/plain": []
     },
     "execution_count": 11,
     "metadata": {},
     "output_type": "execute_result"
    }
   ],
   "source": [
    "#Dtale tool for EDA\n",
    "import dtale\n",
    "dtale.show(df)"
   ]
  },
  {
   "cell_type": "code",
   "execution_count": 12,
   "metadata": {},
   "outputs": [],
   "source": [
    "#Splitting X and y\n",
    "X=df.iloc[:,:-1]\n",
    "y=df.iloc[:,6:]"
   ]
  },
  {
   "cell_type": "code",
   "execution_count": 13,
   "metadata": {},
   "outputs": [],
   "source": [
    "dummy=pd.get_dummies(X[['sex','smoker']],drop_first=True)\n",
    "X['Sex']=dummy.iloc[:,0].values\n",
    "X['Smoker']=dummy.iloc[:,1].values"
   ]
  },
  {
   "cell_type": "code",
   "execution_count": 14,
   "metadata": {},
   "outputs": [],
   "source": [
    "dict={'southeast':0,'northwest':1,'southwest':2,'northeast':3}\n",
    "X['Region']=X['region'].map(dict)"
   ]
  },
  {
   "cell_type": "code",
   "execution_count": 15,
   "metadata": {},
   "outputs": [],
   "source": [
    "X.drop(['sex','smoker','region'],axis=1,inplace=True)"
   ]
  },
  {
   "cell_type": "code",
   "execution_count": 16,
   "metadata": {},
   "outputs": [
    {
     "data": {
      "text/html": [
       "<div>\n",
       "<style scoped>\n",
       "    .dataframe tbody tr th:only-of-type {\n",
       "        vertical-align: middle;\n",
       "    }\n",
       "\n",
       "    .dataframe tbody tr th {\n",
       "        vertical-align: top;\n",
       "    }\n",
       "\n",
       "    .dataframe thead th {\n",
       "        text-align: right;\n",
       "    }\n",
       "</style>\n",
       "<table border=\"1\" class=\"dataframe\">\n",
       "  <thead>\n",
       "    <tr style=\"text-align: right;\">\n",
       "      <th></th>\n",
       "      <th>age</th>\n",
       "      <th>bmi</th>\n",
       "      <th>children</th>\n",
       "      <th>Sex</th>\n",
       "      <th>Smoker</th>\n",
       "      <th>Region</th>\n",
       "    </tr>\n",
       "  </thead>\n",
       "  <tbody>\n",
       "    <tr>\n",
       "      <th>0</th>\n",
       "      <td>19</td>\n",
       "      <td>27.900</td>\n",
       "      <td>0</td>\n",
       "      <td>0</td>\n",
       "      <td>1</td>\n",
       "      <td>2</td>\n",
       "    </tr>\n",
       "    <tr>\n",
       "      <th>1</th>\n",
       "      <td>18</td>\n",
       "      <td>33.770</td>\n",
       "      <td>1</td>\n",
       "      <td>1</td>\n",
       "      <td>0</td>\n",
       "      <td>0</td>\n",
       "    </tr>\n",
       "    <tr>\n",
       "      <th>2</th>\n",
       "      <td>28</td>\n",
       "      <td>33.000</td>\n",
       "      <td>3</td>\n",
       "      <td>1</td>\n",
       "      <td>0</td>\n",
       "      <td>0</td>\n",
       "    </tr>\n",
       "    <tr>\n",
       "      <th>3</th>\n",
       "      <td>33</td>\n",
       "      <td>22.705</td>\n",
       "      <td>0</td>\n",
       "      <td>1</td>\n",
       "      <td>0</td>\n",
       "      <td>1</td>\n",
       "    </tr>\n",
       "    <tr>\n",
       "      <th>4</th>\n",
       "      <td>32</td>\n",
       "      <td>28.880</td>\n",
       "      <td>0</td>\n",
       "      <td>1</td>\n",
       "      <td>0</td>\n",
       "      <td>1</td>\n",
       "    </tr>\n",
       "    <tr>\n",
       "      <th>...</th>\n",
       "      <td>...</td>\n",
       "      <td>...</td>\n",
       "      <td>...</td>\n",
       "      <td>...</td>\n",
       "      <td>...</td>\n",
       "      <td>...</td>\n",
       "    </tr>\n",
       "    <tr>\n",
       "      <th>1333</th>\n",
       "      <td>50</td>\n",
       "      <td>30.970</td>\n",
       "      <td>3</td>\n",
       "      <td>1</td>\n",
       "      <td>0</td>\n",
       "      <td>1</td>\n",
       "    </tr>\n",
       "    <tr>\n",
       "      <th>1334</th>\n",
       "      <td>18</td>\n",
       "      <td>31.920</td>\n",
       "      <td>0</td>\n",
       "      <td>0</td>\n",
       "      <td>0</td>\n",
       "      <td>3</td>\n",
       "    </tr>\n",
       "    <tr>\n",
       "      <th>1335</th>\n",
       "      <td>18</td>\n",
       "      <td>36.850</td>\n",
       "      <td>0</td>\n",
       "      <td>0</td>\n",
       "      <td>0</td>\n",
       "      <td>0</td>\n",
       "    </tr>\n",
       "    <tr>\n",
       "      <th>1336</th>\n",
       "      <td>21</td>\n",
       "      <td>25.800</td>\n",
       "      <td>0</td>\n",
       "      <td>0</td>\n",
       "      <td>0</td>\n",
       "      <td>2</td>\n",
       "    </tr>\n",
       "    <tr>\n",
       "      <th>1337</th>\n",
       "      <td>61</td>\n",
       "      <td>29.070</td>\n",
       "      <td>0</td>\n",
       "      <td>0</td>\n",
       "      <td>1</td>\n",
       "      <td>1</td>\n",
       "    </tr>\n",
       "  </tbody>\n",
       "</table>\n",
       "<p>1338 rows × 6 columns</p>\n",
       "</div>"
      ],
      "text/plain": [
       "      age     bmi  children  Sex  Smoker  Region\n",
       "0      19  27.900         0    0       1       2\n",
       "1      18  33.770         1    1       0       0\n",
       "2      28  33.000         3    1       0       0\n",
       "3      33  22.705         0    1       0       1\n",
       "4      32  28.880         0    1       0       1\n",
       "...   ...     ...       ...  ...     ...     ...\n",
       "1333   50  30.970         3    1       0       1\n",
       "1334   18  31.920         0    0       0       3\n",
       "1335   18  36.850         0    0       0       0\n",
       "1336   21  25.800         0    0       0       2\n",
       "1337   61  29.070         0    0       1       1\n",
       "\n",
       "[1338 rows x 6 columns]"
      ]
     },
     "execution_count": 16,
     "metadata": {},
     "output_type": "execute_result"
    }
   ],
   "source": [
    "X"
   ]
  },
  {
   "cell_type": "code",
   "execution_count": 17,
   "metadata": {},
   "outputs": [
    {
     "data": {
      "text/html": [
       "<div>\n",
       "<style scoped>\n",
       "    .dataframe tbody tr th:only-of-type {\n",
       "        vertical-align: middle;\n",
       "    }\n",
       "\n",
       "    .dataframe tbody tr th {\n",
       "        vertical-align: top;\n",
       "    }\n",
       "\n",
       "    .dataframe thead th {\n",
       "        text-align: right;\n",
       "    }\n",
       "</style>\n",
       "<table border=\"1\" class=\"dataframe\">\n",
       "  <thead>\n",
       "    <tr style=\"text-align: right;\">\n",
       "      <th></th>\n",
       "      <th>charges</th>\n",
       "    </tr>\n",
       "  </thead>\n",
       "  <tbody>\n",
       "    <tr>\n",
       "      <th>0</th>\n",
       "      <td>16884.92400</td>\n",
       "    </tr>\n",
       "    <tr>\n",
       "      <th>1</th>\n",
       "      <td>1725.55230</td>\n",
       "    </tr>\n",
       "    <tr>\n",
       "      <th>2</th>\n",
       "      <td>4449.46200</td>\n",
       "    </tr>\n",
       "    <tr>\n",
       "      <th>3</th>\n",
       "      <td>21984.47061</td>\n",
       "    </tr>\n",
       "    <tr>\n",
       "      <th>4</th>\n",
       "      <td>3866.85520</td>\n",
       "    </tr>\n",
       "    <tr>\n",
       "      <th>...</th>\n",
       "      <td>...</td>\n",
       "    </tr>\n",
       "    <tr>\n",
       "      <th>1333</th>\n",
       "      <td>10600.54830</td>\n",
       "    </tr>\n",
       "    <tr>\n",
       "      <th>1334</th>\n",
       "      <td>2205.98080</td>\n",
       "    </tr>\n",
       "    <tr>\n",
       "      <th>1335</th>\n",
       "      <td>1629.83350</td>\n",
       "    </tr>\n",
       "    <tr>\n",
       "      <th>1336</th>\n",
       "      <td>2007.94500</td>\n",
       "    </tr>\n",
       "    <tr>\n",
       "      <th>1337</th>\n",
       "      <td>29141.36030</td>\n",
       "    </tr>\n",
       "  </tbody>\n",
       "</table>\n",
       "<p>1338 rows × 1 columns</p>\n",
       "</div>"
      ],
      "text/plain": [
       "          charges\n",
       "0     16884.92400\n",
       "1      1725.55230\n",
       "2      4449.46200\n",
       "3     21984.47061\n",
       "4      3866.85520\n",
       "...           ...\n",
       "1333  10600.54830\n",
       "1334   2205.98080\n",
       "1335   1629.83350\n",
       "1336   2007.94500\n",
       "1337  29141.36030\n",
       "\n",
       "[1338 rows x 1 columns]"
      ]
     },
     "execution_count": 17,
     "metadata": {},
     "output_type": "execute_result"
    }
   ],
   "source": [
    "y"
   ]
  },
  {
   "cell_type": "code",
   "execution_count": 18,
   "metadata": {},
   "outputs": [],
   "source": [
    "X_train,X_test,y_train,y_test=train_test_split(X,y,test_size=0.2,random_state=0)"
   ]
  },
  {
   "cell_type": "code",
   "execution_count": 19,
   "metadata": {},
   "outputs": [
    {
     "name": "stdout",
     "output_type": "stream",
     "text": [
      "Fitting 5 folds for each of 2240 candidates, totalling 11200 fits\n"
     ]
    },
    {
     "name": "stderr",
     "output_type": "stream",
     "text": [
      "[Parallel(n_jobs=-1)]: Using backend LokyBackend with 8 concurrent workers.\n",
      "[Parallel(n_jobs=-1)]: Done   2 tasks      | elapsed:    3.1s\n",
      "[Parallel(n_jobs=-1)]: Done   9 tasks      | elapsed:    3.6s\n",
      "[Parallel(n_jobs=-1)]: Done  16 tasks      | elapsed:    4.4s\n",
      "[Parallel(n_jobs=-1)]: Done  25 tasks      | elapsed:    5.0s\n",
      "[Parallel(n_jobs=-1)]: Done  34 tasks      | elapsed:    6.0s\n",
      "[Parallel(n_jobs=-1)]: Done  45 tasks      | elapsed:    6.8s\n",
      "[Parallel(n_jobs=-1)]: Done  56 tasks      | elapsed:    7.9s\n",
      "[Parallel(n_jobs=-1)]: Done  69 tasks      | elapsed:    8.8s\n",
      "[Parallel(n_jobs=-1)]: Done  82 tasks      | elapsed:   10.0s\n",
      "[Parallel(n_jobs=-1)]: Done  97 tasks      | elapsed:   11.5s\n",
      "[Parallel(n_jobs=-1)]: Done 112 tasks      | elapsed:   12.7s\n",
      "[Parallel(n_jobs=-1)]: Done 129 tasks      | elapsed:   14.0s\n",
      "[Parallel(n_jobs=-1)]: Done 146 tasks      | elapsed:   15.6s\n",
      "[Parallel(n_jobs=-1)]: Done 165 tasks      | elapsed:   17.2s\n",
      "[Parallel(n_jobs=-1)]: Done 184 tasks      | elapsed:   18.8s\n",
      "[Parallel(n_jobs=-1)]: Done 205 tasks      | elapsed:   20.9s\n",
      "[Parallel(n_jobs=-1)]: Done 226 tasks      | elapsed:   23.0s\n",
      "[Parallel(n_jobs=-1)]: Done 249 tasks      | elapsed:   24.8s\n",
      "[Parallel(n_jobs=-1)]: Done 272 tasks      | elapsed:   27.9s\n",
      "[Parallel(n_jobs=-1)]: Done 297 tasks      | elapsed:   30.7s\n",
      "[Parallel(n_jobs=-1)]: Done 322 tasks      | elapsed:   32.8s\n",
      "[Parallel(n_jobs=-1)]: Done 349 tasks      | elapsed:   35.0s\n",
      "[Parallel(n_jobs=-1)]: Done 376 tasks      | elapsed:   37.9s\n",
      "[Parallel(n_jobs=-1)]: Done 405 tasks      | elapsed:   40.5s\n",
      "[Parallel(n_jobs=-1)]: Done 434 tasks      | elapsed:   43.4s\n",
      "[Parallel(n_jobs=-1)]: Done 465 tasks      | elapsed:   46.2s\n",
      "[Parallel(n_jobs=-1)]: Done 496 tasks      | elapsed:   49.1s\n",
      "[Parallel(n_jobs=-1)]: Done 529 tasks      | elapsed:   51.9s\n",
      "[Parallel(n_jobs=-1)]: Done 562 tasks      | elapsed:   55.0s\n",
      "[Parallel(n_jobs=-1)]: Done 597 tasks      | elapsed:   58.4s\n",
      "[Parallel(n_jobs=-1)]: Done 632 tasks      | elapsed:  1.0min\n",
      "[Parallel(n_jobs=-1)]: Done 669 tasks      | elapsed:  1.1min\n",
      "[Parallel(n_jobs=-1)]: Done 706 tasks      | elapsed:  1.1min\n",
      "[Parallel(n_jobs=-1)]: Done 745 tasks      | elapsed:  1.2min\n",
      "[Parallel(n_jobs=-1)]: Done 784 tasks      | elapsed:  1.3min\n",
      "[Parallel(n_jobs=-1)]: Done 825 tasks      | elapsed:  1.3min\n",
      "[Parallel(n_jobs=-1)]: Done 866 tasks      | elapsed:  1.5min\n",
      "[Parallel(n_jobs=-1)]: Done 909 tasks      | elapsed:  1.5min\n",
      "[Parallel(n_jobs=-1)]: Done 952 tasks      | elapsed:  1.6min\n",
      "[Parallel(n_jobs=-1)]: Done 997 tasks      | elapsed:  1.7min\n",
      "[Parallel(n_jobs=-1)]: Done 1042 tasks      | elapsed:  1.8min\n",
      "[Parallel(n_jobs=-1)]: Done 1089 tasks      | elapsed:  1.8min\n",
      "[Parallel(n_jobs=-1)]: Done 1136 tasks      | elapsed:  1.9min\n",
      "[Parallel(n_jobs=-1)]: Done 1185 tasks      | elapsed:  2.0min\n",
      "[Parallel(n_jobs=-1)]: Done 1234 tasks      | elapsed:  2.1min\n",
      "[Parallel(n_jobs=-1)]: Done 1285 tasks      | elapsed:  2.2min\n",
      "[Parallel(n_jobs=-1)]: Done 1336 tasks      | elapsed:  2.3min\n",
      "[Parallel(n_jobs=-1)]: Done 1389 tasks      | elapsed:  2.4min\n",
      "[Parallel(n_jobs=-1)]: Done 1442 tasks      | elapsed:  2.5min\n",
      "[Parallel(n_jobs=-1)]: Done 1497 tasks      | elapsed:  2.6min\n",
      "[Parallel(n_jobs=-1)]: Done 1552 tasks      | elapsed:  2.8min\n",
      "[Parallel(n_jobs=-1)]: Done 1609 tasks      | elapsed:  2.9min\n",
      "[Parallel(n_jobs=-1)]: Done 1666 tasks      | elapsed:  3.0min\n",
      "[Parallel(n_jobs=-1)]: Done 1725 tasks      | elapsed:  3.1min\n",
      "[Parallel(n_jobs=-1)]: Done 1784 tasks      | elapsed:  3.1min\n",
      "[Parallel(n_jobs=-1)]: Done 1845 tasks      | elapsed:  3.3min\n",
      "[Parallel(n_jobs=-1)]: Done 1906 tasks      | elapsed:  3.4min\n",
      "[Parallel(n_jobs=-1)]: Done 1969 tasks      | elapsed:  3.5min\n",
      "[Parallel(n_jobs=-1)]: Done 2032 tasks      | elapsed:  3.5min\n",
      "[Parallel(n_jobs=-1)]: Done 2097 tasks      | elapsed:  3.6min\n",
      "[Parallel(n_jobs=-1)]: Done 2162 tasks      | elapsed:  3.7min\n",
      "[Parallel(n_jobs=-1)]: Done 2229 tasks      | elapsed:  3.8min\n",
      "[Parallel(n_jobs=-1)]: Done 2296 tasks      | elapsed:  3.9min\n",
      "[Parallel(n_jobs=-1)]: Done 2365 tasks      | elapsed:  4.0min\n",
      "[Parallel(n_jobs=-1)]: Done 2434 tasks      | elapsed:  4.1min\n",
      "[Parallel(n_jobs=-1)]: Done 2505 tasks      | elapsed:  4.2min\n",
      "[Parallel(n_jobs=-1)]: Done 2576 tasks      | elapsed:  4.3min\n",
      "[Parallel(n_jobs=-1)]: Done 2649 tasks      | elapsed:  4.4min\n",
      "[Parallel(n_jobs=-1)]: Done 2722 tasks      | elapsed:  4.5min\n",
      "[Parallel(n_jobs=-1)]: Done 2797 tasks      | elapsed:  4.6min\n",
      "[Parallel(n_jobs=-1)]: Done 2872 tasks      | elapsed:  4.7min\n",
      "[Parallel(n_jobs=-1)]: Done 2949 tasks      | elapsed:  4.8min\n",
      "[Parallel(n_jobs=-1)]: Done 3026 tasks      | elapsed:  4.9min\n",
      "[Parallel(n_jobs=-1)]: Done 3105 tasks      | elapsed:  5.1min\n",
      "[Parallel(n_jobs=-1)]: Done 3184 tasks      | elapsed:  5.2min\n",
      "[Parallel(n_jobs=-1)]: Done 3265 tasks      | elapsed:  5.3min\n",
      "[Parallel(n_jobs=-1)]: Done 3346 tasks      | elapsed:  5.5min\n",
      "[Parallel(n_jobs=-1)]: Done 3429 tasks      | elapsed:  5.6min\n",
      "[Parallel(n_jobs=-1)]: Done 3512 tasks      | elapsed:  5.7min\n",
      "[Parallel(n_jobs=-1)]: Done 3597 tasks      | elapsed:  5.9min\n",
      "[Parallel(n_jobs=-1)]: Done 3682 tasks      | elapsed:  6.0min\n",
      "[Parallel(n_jobs=-1)]: Done 3769 tasks      | elapsed:  6.1min\n",
      "[Parallel(n_jobs=-1)]: Done 3856 tasks      | elapsed:  6.3min\n",
      "[Parallel(n_jobs=-1)]: Done 3945 tasks      | elapsed:  6.4min\n",
      "[Parallel(n_jobs=-1)]: Done 4034 tasks      | elapsed:  6.5min\n",
      "[Parallel(n_jobs=-1)]: Done 4125 tasks      | elapsed:  6.7min\n",
      "[Parallel(n_jobs=-1)]: Done 4216 tasks      | elapsed:  6.8min\n",
      "[Parallel(n_jobs=-1)]: Done 4309 tasks      | elapsed:  7.0min\n",
      "[Parallel(n_jobs=-1)]: Done 4402 tasks      | elapsed:  7.1min\n",
      "[Parallel(n_jobs=-1)]: Done 4497 tasks      | elapsed:  7.3min\n",
      "[Parallel(n_jobs=-1)]: Done 4592 tasks      | elapsed:  7.4min\n",
      "[Parallel(n_jobs=-1)]: Done 4689 tasks      | elapsed:  7.6min\n",
      "[Parallel(n_jobs=-1)]: Done 4786 tasks      | elapsed:  7.7min\n",
      "[Parallel(n_jobs=-1)]: Done 4885 tasks      | elapsed:  7.8min\n",
      "[Parallel(n_jobs=-1)]: Done 4984 tasks      | elapsed:  8.0min\n",
      "[Parallel(n_jobs=-1)]: Done 5085 tasks      | elapsed:  8.2min\n",
      "[Parallel(n_jobs=-1)]: Done 5186 tasks      | elapsed:  8.3min\n",
      "[Parallel(n_jobs=-1)]: Done 5289 tasks      | elapsed:  8.5min\n",
      "[Parallel(n_jobs=-1)]: Done 5392 tasks      | elapsed:  8.6min\n",
      "[Parallel(n_jobs=-1)]: Done 5497 tasks      | elapsed:  8.8min\n",
      "[Parallel(n_jobs=-1)]: Done 5602 tasks      | elapsed:  8.9min\n",
      "[Parallel(n_jobs=-1)]: Done 5709 tasks      | elapsed:  9.3min\n",
      "[Parallel(n_jobs=-1)]: Done 5816 tasks      | elapsed:  9.7min\n",
      "[Parallel(n_jobs=-1)]: Done 5925 tasks      | elapsed: 10.1min\n",
      "[Parallel(n_jobs=-1)]: Done 6034 tasks      | elapsed: 10.4min\n",
      "[Parallel(n_jobs=-1)]: Done 6145 tasks      | elapsed: 10.8min\n",
      "[Parallel(n_jobs=-1)]: Done 6256 tasks      | elapsed: 11.2min\n",
      "[Parallel(n_jobs=-1)]: Done 6369 tasks      | elapsed: 11.7min\n",
      "[Parallel(n_jobs=-1)]: Done 6482 tasks      | elapsed: 12.3min\n",
      "[Parallel(n_jobs=-1)]: Done 6597 tasks      | elapsed: 12.9min\n",
      "[Parallel(n_jobs=-1)]: Done 6712 tasks      | elapsed: 13.5min\n",
      "[Parallel(n_jobs=-1)]: Done 6829 tasks      | elapsed: 14.1min\n",
      "[Parallel(n_jobs=-1)]: Done 6946 tasks      | elapsed: 14.7min\n",
      "[Parallel(n_jobs=-1)]: Done 7065 tasks      | elapsed: 15.4min\n",
      "[Parallel(n_jobs=-1)]: Done 7184 tasks      | elapsed: 16.2min\n",
      "[Parallel(n_jobs=-1)]: Done 7305 tasks      | elapsed: 16.9min\n",
      "[Parallel(n_jobs=-1)]: Done 7426 tasks      | elapsed: 17.7min\n",
      "[Parallel(n_jobs=-1)]: Done 7549 tasks      | elapsed: 18.5min\n",
      "[Parallel(n_jobs=-1)]: Done 7672 tasks      | elapsed: 19.3min\n",
      "[Parallel(n_jobs=-1)]: Done 7797 tasks      | elapsed: 20.2min\n",
      "[Parallel(n_jobs=-1)]: Done 7922 tasks      | elapsed: 21.1min\n",
      "[Parallel(n_jobs=-1)]: Done 8049 tasks      | elapsed: 22.0min\n",
      "[Parallel(n_jobs=-1)]: Done 8176 tasks      | elapsed: 22.9min\n",
      "[Parallel(n_jobs=-1)]: Done 8305 tasks      | elapsed: 23.8min\n",
      "[Parallel(n_jobs=-1)]: Done 8434 tasks      | elapsed: 24.8min\n",
      "[Parallel(n_jobs=-1)]: Done 8565 tasks      | elapsed: 25.8min\n",
      "[Parallel(n_jobs=-1)]: Done 8696 tasks      | elapsed: 26.9min\n",
      "[Parallel(n_jobs=-1)]: Done 8829 tasks      | elapsed: 66.2min\n",
      "[Parallel(n_jobs=-1)]: Done 8962 tasks      | elapsed: 67.3min\n",
      "[Parallel(n_jobs=-1)]: Done 9097 tasks      | elapsed: 68.3min\n"
     ]
    },
    {
     "name": "stderr",
     "output_type": "stream",
     "text": [
      "[Parallel(n_jobs=-1)]: Done 9232 tasks      | elapsed: 69.4min\n",
      "[Parallel(n_jobs=-1)]: Done 9369 tasks      | elapsed: 70.5min\n",
      "[Parallel(n_jobs=-1)]: Done 9506 tasks      | elapsed: 71.9min\n",
      "[Parallel(n_jobs=-1)]: Done 9645 tasks      | elapsed: 73.4min\n",
      "[Parallel(n_jobs=-1)]: Done 9784 tasks      | elapsed: 74.9min\n",
      "[Parallel(n_jobs=-1)]: Done 9925 tasks      | elapsed: 76.6min\n",
      "[Parallel(n_jobs=-1)]: Done 10066 tasks      | elapsed: 78.2min\n",
      "[Parallel(n_jobs=-1)]: Done 10209 tasks      | elapsed: 79.8min\n",
      "[Parallel(n_jobs=-1)]: Done 10352 tasks      | elapsed: 81.4min\n",
      "[Parallel(n_jobs=-1)]: Done 10497 tasks      | elapsed: 83.0min\n",
      "[Parallel(n_jobs=-1)]: Done 10642 tasks      | elapsed: 84.8min\n",
      "[Parallel(n_jobs=-1)]: Done 10789 tasks      | elapsed: 86.5min\n",
      "[Parallel(n_jobs=-1)]: Done 10936 tasks      | elapsed: 88.3min\n",
      "[Parallel(n_jobs=-1)]: Done 11085 tasks      | elapsed: 90.0min\n",
      "[Parallel(n_jobs=-1)]: Done 11200 out of 11200 | elapsed: 91.5min finished\n",
      "C:\\Users\\Admin\\anaconda3\\lib\\site-packages\\sklearn\\model_selection\\_search.py:739: DataConversionWarning:\n",
      "\n",
      "A column-vector y was passed when a 1d array was expected. Please change the shape of y to (n_samples,), for example using ravel().\n",
      "\n"
     ]
    },
    {
     "data": {
      "text/plain": [
       "GridSearchCV(cv=5, error_score=nan,\n",
       "             estimator=RandomForestRegressor(bootstrap=True, ccp_alpha=0.0,\n",
       "                                             criterion='mse', max_depth=None,\n",
       "                                             max_features='auto',\n",
       "                                             max_leaf_nodes=None,\n",
       "                                             max_samples=None,\n",
       "                                             min_impurity_decrease=0.0,\n",
       "                                             min_impurity_split=None,\n",
       "                                             min_samples_leaf=1,\n",
       "                                             min_samples_split=2,\n",
       "                                             min_weight_fraction_leaf=0.0,\n",
       "                                             n_estimators=100, n_jobs=None,\n",
       "                                             oob_score=False, random_state=None,\n",
       "                                             verbose=0, warm_start=False),\n",
       "             iid='deprecated', n_jobs=-1,\n",
       "             param_grid={'criterion': ['mse', 'mae'],\n",
       "                         'max_depth': [1, 2, 3, 4, 5, 6, 7, 8],\n",
       "                         'min_samples_leaf': [1, 2, 3, 4, 5, 6, 7],\n",
       "                         'min_samples_split': [2, 4, 6, 8, 10],\n",
       "                         'n_estimators': [50, 100, 200, 300]},\n",
       "             pre_dispatch='2*n_jobs', refit=True, return_train_score=False,\n",
       "             scoring=None, verbose=10)"
      ]
     },
     "execution_count": 19,
     "metadata": {},
     "output_type": "execute_result"
    }
   ],
   "source": [
    "params={'n_estimators':[50,100,200,300],'criterion':[\"mse\", \"mae\"],\n",
    "        'max_depth':[1,2,3,4,5,6,7,8],'min_samples_split':[2,4,6,8,10],\n",
    "        'min_samples_leaf':[1,2,3,4,5,6,7]}\n",
    "regressor=RandomForestRegressor()\n",
    "grid=GridSearchCV(regressor,param_grid=params,n_jobs=-1,cv=5,verbose=10)\n",
    "grid.fit(X_train,y_train)\n",
    "grid"
   ]
  },
  {
   "cell_type": "code",
   "execution_count": 44,
   "metadata": {},
   "outputs": [
    {
     "data": {
      "text/plain": [
       "{'criterion': 'mse',\n",
       " 'max_depth': 4,\n",
       " 'min_samples_leaf': 4,\n",
       " 'min_samples_split': 2,\n",
       " 'n_estimators': 100}"
      ]
     },
     "execution_count": 44,
     "metadata": {},
     "output_type": "execute_result"
    }
   ],
   "source": [
    "grid.best_params_"
   ]
  },
  {
   "cell_type": "code",
   "execution_count": 21,
   "metadata": {},
   "outputs": [
    {
     "name": "stdout",
     "output_type": "stream",
     "text": [
      "19346900.069736782\n"
     ]
    }
   ],
   "source": [
    "y_pred1=grid.predict(X_train)\n",
    "mse=mean_squared_error(y_train,y_pred1)\n",
    "print(mse)"
   ]
  },
  {
   "cell_type": "code",
   "execution_count": 22,
   "metadata": {},
   "outputs": [
    {
     "name": "stdout",
     "output_type": "stream",
     "text": [
      "15909103.676038329\n"
     ]
    }
   ],
   "source": [
    "y_pred=grid.predict(X_test)\n",
    "mse=mean_squared_error(y_test,y_pred)\n",
    "print(mse)"
   ]
  },
  {
   "cell_type": "code",
   "execution_count": 36,
   "metadata": {},
   "outputs": [
    {
     "name": "stdout",
     "output_type": "stream",
     "text": [
      "3988.6217765085635\n",
      "Executing shutdown...\n"
     ]
    },
    {
     "name": "stderr",
     "output_type": "stream",
     "text": [
      "2020-10-29 22:12:31,108 - INFO     - Executing shutdown...\n"
     ]
    }
   ],
   "source": [
    "import math\n",
    "rmse=math.sqrt(mse)\n",
    "print(rmse)"
   ]
  },
  {
   "cell_type": "code",
   "execution_count": 38,
   "metadata": {},
   "outputs": [],
   "source": [
    "#Saving the model\n",
    "import pickle"
   ]
  },
  {
   "cell_type": "code",
   "execution_count": 47,
   "metadata": {},
   "outputs": [],
   "source": [
    "pickle.dump(grid, open('model.pkl','wb'))"
   ]
  },
  {
   "cell_type": "code",
   "execution_count": 46,
   "metadata": {},
   "outputs": [
    {
     "name": "stdout",
     "output_type": "stream",
     "text": [
      "75714.0\n"
     ]
    }
   ],
   "source": [
    "import requests\n",
    "url = 'https://pycaret-insurance.herokuapp.com/predict_api'\n",
    "pred = requests.post(url,json={'age':55, 'sex':'male', 'bmi':59, 'children':1, 'smoker':'male', 'region':'northwest'})\n",
    "print(pred.json())"
   ]
  }
 ],
 "metadata": {
  "kernelspec": {
   "display_name": "Python 3",
   "language": "python",
   "name": "python3"
  },
  "language_info": {
   "codemirror_mode": {
    "name": "ipython",
    "version": 3
   },
   "file_extension": ".py",
   "mimetype": "text/x-python",
   "name": "python",
   "nbconvert_exporter": "python",
   "pygments_lexer": "ipython3",
   "version": "3.7.6"
  }
 },
 "nbformat": 4,
 "nbformat_minor": 2
}
